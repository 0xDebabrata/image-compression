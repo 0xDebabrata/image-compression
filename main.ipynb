{
  "cells": [
    {
      "cell_type": "code",
      "execution_count": 71,
      "metadata": {
        "id": "C6KP0-XR6syK"
      },
      "outputs": [],
      "source": [
        "from PIL import Image, ImageOps\n",
        "import numpy as np\n",
        "import math"
      ]
    },
    {
      "cell_type": "code",
      "source": [
        "def bytestring_to_int(string: str):\n",
        "    \"\"\"\n",
        "    Convert the input binary string into it's integer equivalent\n",
        "    Eg: 00000011 -> 3\n",
        "    \"\"\"\n",
        "\n",
        "    val = 0\n",
        "    power_of_twos = [128, 64, 32, 16, 8, 4, 2, 1]\n",
        "\n",
        "    for i in range(len(string)):\n",
        "        if string[i] == \"1\":\n",
        "            val += power_of_twos[i]\n",
        "\n",
        "    return val\n",
        "\n",
        "def int_to_bytestring(val: int):\n",
        "    \"\"\"\n",
        "    Convert the input integer value into it's bit string equivalent\n",
        "    Eg: 3 -> 00000011\n",
        "    \"\"\"\n",
        "\n",
        "    bytestring = \"\"\n",
        "    power_of_twos = [128, 64, 32, 16, 8, 4, 2, 1]\n",
        "\n",
        "    for power in power_of_twos:\n",
        "        if val >= power:\n",
        "            bytestring += '1'\n",
        "            val -= power\n",
        "        else:\n",
        "            bytestring += '0'\n",
        "\n",
        "    return bytestring"
      ],
      "metadata": {
        "id": "W3lO55paJTn4"
      },
      "execution_count": 72,
      "outputs": []
    },
    {
      "cell_type": "markdown",
      "source": [
        "# Fibonacci Encoding"
      ],
      "metadata": {
        "id": "jiU7OIZLDB1w"
      }
    },
    {
      "cell_type": "markdown",
      "source": [
        "## Compressed file header\n",
        "\n",
        "Compressed file contains a header which contains the rank of pixel frequencies. This is required while decompressing the file.\n",
        "\n",
        "The header format used in this case is as follows:\n",
        "- First byte contains the number of unique pixel values in the image (`n`). Since each pixel can have a value between 0-255, this number can fit within 1 byte.\n",
        "- Next `n` bytes will contain the actual pixel value sorted in descending order of their frequency.\n",
        "\n",
        "As a result, the header contains `n+1` bytes. All bytes following this consist of the actual file data that needs to be decompressed."
      ],
      "metadata": {
        "id": "5x8hXgVXYcNb"
      }
    },
    {
      "cell_type": "code",
      "source": [
        "def get_max_fibo(n):\n",
        "    # Get max fibonacci number less than equal to n\n",
        "    # Returns (fibo_num, count)\n",
        "    # count returns the 0-based index of fibo_num in the Fibonacci sequence\n",
        "    a = 1\n",
        "    prev = 0\n",
        "    count = 0\n",
        "    while a <= n:\n",
        "        count += 1\n",
        "        new = a + prev\n",
        "        if new > n:\n",
        "            break\n",
        "        prev = a\n",
        "        a = new\n",
        "\n",
        "    return a, count - 2\n",
        "\n",
        "def fibonacci_code(n):\n",
        "    # Returns Fibonacci code for n\n",
        "    indices = []\n",
        "    while n > 0:\n",
        "        fibo, count = get_max_fibo(n)\n",
        "        n = n - fibo\n",
        "        indices.append(count)\n",
        "\n",
        "    code = \"\"\n",
        "    for i in range(indices[0] + 1):\n",
        "        if i in indices:\n",
        "            code += \"1\"\n",
        "        else:\n",
        "            code += \"0\"\n",
        "\n",
        "    return code + \"1\""
      ],
      "metadata": {
        "id": "JsnTS_xFL3o3"
      },
      "execution_count": 73,
      "outputs": []
    },
    {
      "cell_type": "code",
      "execution_count": 131,
      "metadata": {
        "id": "0QXUdgdKEL7v"
      },
      "outputs": [],
      "source": [
        "class FibonacciCode:\n",
        "    def __init__(self):\n",
        "        self.compute_fibonacci_codes()\n",
        "\n",
        "    def compute_fibonacci_codes(self):\n",
        "        # Stores fibonacci codes for 1,2,...,256 in indices 0,1,...,255\n",
        "        self.fibonacci_codes = [fibonacci_code(i+1) for i in range(256)]\n",
        "\n",
        "    def open_grayscale(self, path: str):\n",
        "        img = Image.open(path)\n",
        "        self.img = ImageOps.grayscale(img)\n",
        "\n",
        "    def _compute_pixel_frequencies(self):\n",
        "        pixel_freq_map = {}\n",
        "        pixels = np.asarray(self.img)\n",
        "        for row in pixels:\n",
        "            for pixel in row:\n",
        "                pixel_frequency = pixel_freq_map.get(pixel, None)\n",
        "                if pixel_frequency:\n",
        "                    pixel_freq_map[pixel] = pixel_frequency + 1\n",
        "                else:\n",
        "                    pixel_freq_map[pixel] = 1\n",
        "        return self._map_to_tuple(pixel_freq_map)\n",
        "\n",
        "    def _map_to_tuple(self, pixel_freq_map):\n",
        "        tuple_list = []     # Tuple: (pixel, frequency)\n",
        "        for pixel in pixel_freq_map:\n",
        "            tuple_list.append((pixel, pixel_freq_map[pixel]))\n",
        "        tuple_list.sort(reverse=True, key=lambda x: x[1])\n",
        "        return tuple_list\n",
        "\n",
        "    def _create_file_heading(self, pixel_freq_tuple):\n",
        "        heading = [len(pixel_freq_tuple)]\n",
        "        for pixel, freq in pixel_freq_tuple:\n",
        "            heading.append(int(pixel))\n",
        "        return heading\n",
        "\n",
        "    def _get_bytes_arr(self, data: str):\n",
        "        bytes_arr = []\n",
        "        for i in range(0, len(data), 8):\n",
        "            byte_val = bytestring_to_int(data[i:i+8])\n",
        "            bytes_arr.append(byte_val)\n",
        "        return bytes_arr\n",
        "\n",
        "    def _write_to_file(self, path: str, bytes_arr: list[int]):\n",
        "        output_file_path = path.split(\".\")[0] + \"_compressed.bin\"\n",
        "        with open(output_file_path, \"wb\") as f:\n",
        "            for byte in bytes_arr:\n",
        "                f.write(byte.to_bytes(1, \"big\"))\n",
        "\n",
        "    def encode(self, path: str):\n",
        "        self.open_grayscale(path)\n",
        "        pixel_frequencies = self._compute_pixel_frequencies()\n",
        "        encoded_bytes_arr = self._create_file_heading(pixel_frequencies)\n",
        "        encoded_data = \"\"\n",
        "\n",
        "        pixels = np.asarray(self.img)\n",
        "        for row in pixels:\n",
        "            for pixel in row:\n",
        "                for idx, tuple in enumerate(pixel_frequencies):\n",
        "                    pxl, freq = tuple\n",
        "                    if pxl == pixel:\n",
        "                        encoded_data += self.fibonacci_codes[idx]\n",
        "\n",
        "\n",
        "        for val in self._get_bytes_arr(encoded_data):\n",
        "            encoded_bytes_arr.append(val)\n",
        "\n",
        "        self._write_to_file(path, encoded_bytes_arr)\n",
        "\n",
        "    def decode(self, path: str):\n",
        "        byte_val_arr = []\n",
        "        with open(path, \"rb\") as f:\n",
        "            contents = f.read()\n",
        "            byte_val_arr = list(contents)\n",
        "\n",
        "        n = byte_val_arr[0]\n",
        "        sorted_pixel_values = []\n",
        "        for i in range(1, n + 1):\n",
        "            sorted_pixel_values.append(byte_val_arr[i])\n",
        "\n",
        "        encoded_data = \"\"\n",
        "        for i in range(n + 1, len(byte_val_arr)):\n",
        "            encoded_data += int_to_bytestring(byte_val_arr[i])\n",
        "\n",
        "        curr = \"\"\n",
        "        prev = \"\"\n",
        "        pixels = []\n",
        "        for char in encoded_data:\n",
        "            curr += char\n",
        "            if prev + char == \"11\":\n",
        "                idx = self.fibonacci_codes.index(curr)\n",
        "                pixels.append(sorted_pixel_values[idx])\n",
        "                curr = \"\"\n",
        "                prev = \"\"\n",
        "            else:\n",
        "                prev = char\n",
        "\n",
        "        computed_height = computed_width = int(math.sqrt(len(pixels)))\n",
        "        image_data = np.array(pixels).reshape((computed_height, -1))\n",
        "\n",
        "        new_image = Image.fromarray(np.uint8(image_data), \"L\")\n",
        "        new_image.show()\n",
        "        new_image.save('decompressed.bmp')\n",
        "\n"
      ]
    },
    {
      "cell_type": "code",
      "source": [
        "files = [\n",
        "    \"data/gs_50X50.bmp\",\n",
        "    \"data/gs_100X100.bmp\",\n",
        "    \"data/gs_200X200.bmp\",\n",
        "    \"data/gs_300X300.bmp\",\n",
        "    \"data/gs_400X400.bmp\",\n",
        "    \"data/gs_500X500.bmp\",\n",
        "    ]"
      ],
      "metadata": {
        "id": "IQQJCyJj2d1H"
      },
      "execution_count": 128,
      "outputs": []
    },
    {
      "cell_type": "code",
      "source": [
        "selected_image = files[0]\n",
        "fibo_encoder = FibonacciCode()\n",
        "fibo_encoder.encode(selected_image)"
      ],
      "metadata": {
        "id": "-5dSqmyVH0uc"
      },
      "execution_count": 132,
      "outputs": []
    },
    {
      "cell_type": "code",
      "source": [
        "compressed_file = selected_image.split(\".\")[0] + \"_compressed.bin\"\n",
        "fibo_encoder.decode(compressed_file)"
      ],
      "metadata": {
        "id": "KJ8JFqk3cAWf"
      },
      "execution_count": 133,
      "outputs": []
    }
  ],
  "metadata": {
    "colab": {
      "provenance": []
    },
    "kernelspec": {
      "display_name": "Python 3",
      "name": "python3"
    },
    "language_info": {
      "name": "python"
    }
  },
  "nbformat": 4,
  "nbformat_minor": 0
}